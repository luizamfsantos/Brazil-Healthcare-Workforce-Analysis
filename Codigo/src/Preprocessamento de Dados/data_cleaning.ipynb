{
 "cells": [
  {
   "cell_type": "markdown",
   "metadata": {},
   "source": [
    "# import libraries"
   ]
  },
  {
   "cell_type": "code",
   "execution_count": 2,
   "metadata": {},
   "outputs": [],
   "source": [
    "import pandas as pd\n",
    "import numpy as np"
   ]
  },
  {
   "cell_type": "markdown",
   "metadata": {},
   "source": [
    "# load data"
   ]
  },
  {
   "cell_type": "code",
   "execution_count": 3,
   "metadata": {},
   "outputs": [],
   "source": [
    "df = pd.read_csv('../../../Dados/Raw/Equipes_Saude/totais/2008-2022.csv', delimiter=';')"
   ]
  },
  {
   "cell_type": "code",
   "execution_count": 4,
   "metadata": {},
   "outputs": [
    {
     "data": {
      "text/html": [
       "<div>\n",
       "<style scoped>\n",
       "    .dataframe tbody tr th:only-of-type {\n",
       "        vertical-align: middle;\n",
       "    }\n",
       "\n",
       "    .dataframe tbody tr th {\n",
       "        vertical-align: top;\n",
       "    }\n",
       "\n",
       "    .dataframe thead th {\n",
       "        text-align: right;\n",
       "    }\n",
       "</style>\n",
       "<table border=\"1\" class=\"dataframe\">\n",
       "  <thead>\n",
       "    <tr style=\"text-align: right;\">\n",
       "      <th></th>\n",
       "      <th>Unidade da Federa��o;\"2008/Jan\";\"2008/Fev\";\"2008/Mar\";\"2008/Abr\";\"2008/Mai\";\"2008/Jun\";\"2008/Jul\";\"2008/Ago\";\"2008/Set\";\"2008/Out\";\"2008/Nov\";\"2008/Dez\";\"2009/Jan\";\"2009/Fev\";\"2009/Mar\";\"2009/Abr\";\"2009/Mai\";\"2009/Jun\";\"2009/Jul\";\"2009/Ago\";\"2009/Set\";\"2009/Out\";\"2009/Nov\";\"2009/Dez\";\"2010/Jan\";\"2010/Fev\";\"2010/Mar\";\"2010/Abr\";\"2010/Mai\";\"2010/Jun\";\"2010/Jul\";\"2010/Ago\";\"2010/Set\";\"2010/Out\";\"2010/Nov\";\"2010/Dez\";\"2011/Jan\";\"2011/Fev\";\"2011/Mar\";\"2011/Abr\";\"2011/Mai\";\"2011/Jun\";\"2011/Jul\";\"2011/Ago\";\"2011/Set\";\"2011/Out\";\"2011/Nov\";\"2011/Dez\";\"2012/Jan\";\"2012/Fev\";\"2012/Mar\";\"2012/Abr\";\"2012/Mai\";\"2012/Jun\";\"2012/Jul\";\"2012/Ago\";\"2012/Set\";\"2012/Out\";\"2012/Nov\";\"2012/Dez\";\"2013/Jan\";\"2013/Fev\";\"2013/Mar\";\"2013/Abr\";\"2013/Mai\";\"2013/Jun\";\"2013/Jul\";\"2013/Ago\";\"2013/Set\";\"2013/Out\";\"2013/Nov\";\"2013/Dez\";\"2014/Jan\";\"2014/Fev\";\"2014/Mar\";\"2014/Abr\";\"2014/Mai\";\"2014/Jun\";\"2014/Jul\";\"2014/Ago\";\"2014/Set\";\"2014/Out\";\"2014/Nov\";\"2014/Dez\";\"2015/Jan\";\"2015/Fev\";\"2015/Mar\";\"2015/Abr\";\"2015/Mai\";\"2015/Jun\";\"2015/Jul\";\"2015/Ago\";\"2015/Set\";\"2015/Out\";\"2015/Nov\";\"2015/Dez\";\"2016/Jan\";\"2016/Fev\";\"2016/Mar\";\"2016/Abr\";\"2016/Mai\";\"2016/Jun\";\"2016/Jul\";\"2016/Ago\";\"2016/Set\";\"2016/Out\";\"2016/Nov\";\"2016/Dez\";\"2017/Jan\";\"2017/Fev\";\"2017/Mar\";\"2017/Abr\";\"2017/Mai\";\"2017/Jun\";\"2017/Jul\";\"2017/Ago\";\"2017/Set\";\"2017/Out\";\"2017/Nov\";\"2017/Dez\";\"2018/Jan\";\"2018/Fev\";\"2018/Mar\";\"2018/Abr\";\"2018/Mai\";\"2018/Jun\";\"2018/Jul\";\"2018/Ago\";\"2018/Set\";\"2018/Out\";\"2018/Nov\";\"2018/Dez\";\"2019/Jan\";\"2019/Fev\";\"2019/Mar\";\"2019/Abr\";\"2019/Mai\";\"2019/Jun\";\"2019/Jul\";\"2019/Ago\";\"2019/Set\";\"2019/Out\";\"2019/Nov\";\"2019/Dez\";\"2020/Jan\";\"2020/Fev\";\"2020/Mar\";\"2020/Abr\";\"2020/Mai\";\"2020/Jun\";\"2020/Jul\";\"2020/Ago\";\"2020/Set\";\"2020/Out\";\"2020/Nov\";\"2020/Dez\";\"2021/Jan\";\"2021/Fev\";\"2021/Mar\";\"2021/Abr\";\"2021/Mai\";\"2021/Jun\";\"2021/Jul\";\"2021/Ago\";\"2021/Set\";\"2021/Out\";\"2021/Nov\";\"2021/Dez\";\"2022/Jan\";\"2022/Fev\";\"2022/Mar\";\"2022/Abr\";\"2022/Mai\";\"2022/Jun\";\"2022/Jul\";\"2022/Ago\";\"2022/Set\";\"2022/Out\";\"2022/Nov\";\"2022/Dez\"</th>\n",
       "    </tr>\n",
       "  </thead>\n",
       "  <tbody>\n",
       "    <tr>\n",
       "      <th>0</th>\n",
       "      <td>11 Rond�nia;281;279;278;295;296;301;304;306;30...</td>\n",
       "    </tr>\n",
       "    <tr>\n",
       "      <th>1</th>\n",
       "      <td>12 Acre;168;170;170;171;172;172;172;175;175;17...</td>\n",
       "    </tr>\n",
       "    <tr>\n",
       "      <th>2</th>\n",
       "      <td>13 Amazonas;622;613;616;608;636;641;639;642;65...</td>\n",
       "    </tr>\n",
       "    <tr>\n",
       "      <th>3</th>\n",
       "      <td>14 Roraima;95;93;93;94;95;97;100;100;100;102;1...</td>\n",
       "    </tr>\n",
       "    <tr>\n",
       "      <th>4</th>\n",
       "      <td>15 Par�;1060;1066;1082;1100;1123;1132;1148;115...</td>\n",
       "    </tr>\n",
       "  </tbody>\n",
       "</table>\n",
       "</div>"
      ],
      "text/plain": [
       "  Unidade da Federa��o;\"2008/Jan\";\"2008/Fev\";\"2008/Mar\";\"2008/Abr\";\"2008/Mai\";\"2008/Jun\";\"2008/Jul\";\"2008/Ago\";\"2008/Set\";\"2008/Out\";\"2008/Nov\";\"2008/Dez\";\"2009/Jan\";\"2009/Fev\";\"2009/Mar\";\"2009/Abr\";\"2009/Mai\";\"2009/Jun\";\"2009/Jul\";\"2009/Ago\";\"2009/Set\";\"2009/Out\";\"2009/Nov\";\"2009/Dez\";\"2010/Jan\";\"2010/Fev\";\"2010/Mar\";\"2010/Abr\";\"2010/Mai\";\"2010/Jun\";\"2010/Jul\";\"2010/Ago\";\"2010/Set\";\"2010/Out\";\"2010/Nov\";\"2010/Dez\";\"2011/Jan\";\"2011/Fev\";\"2011/Mar\";\"2011/Abr\";\"2011/Mai\";\"2011/Jun\";\"2011/Jul\";\"2011/Ago\";\"2011/Set\";\"2011/Out\";\"2011/Nov\";\"2011/Dez\";\"2012/Jan\";\"2012/Fev\";\"2012/Mar\";\"2012/Abr\";\"2012/Mai\";\"2012/Jun\";\"2012/Jul\";\"2012/Ago\";\"2012/Set\";\"2012/Out\";\"2012/Nov\";\"2012/Dez\";\"2013/Jan\";\"2013/Fev\";\"2013/Mar\";\"2013/Abr\";\"2013/Mai\";\"2013/Jun\";\"2013/Jul\";\"2013/Ago\";\"2013/Set\";\"2013/Out\";\"2013/Nov\";\"2013/Dez\";\"2014/Jan\";\"2014/Fev\";\"2014/Mar\";\"2014/Abr\";\"2014/Mai\";\"2014/Jun\";\"2014/Jul\";\"2014/Ago\";\"2014/Set\";\"2014/Out\";\"2014/Nov\";\"2014/Dez\";\"2015/Jan\";\"2015/Fev\";\"2015/Mar\";\"2015/Abr\";\"2015/Mai\";\"2015/Jun\";\"2015/Jul\";\"2015/Ago\";\"2015/Set\";\"2015/Out\";\"2015/Nov\";\"2015/Dez\";\"2016/Jan\";\"2016/Fev\";\"2016/Mar\";\"2016/Abr\";\"2016/Mai\";\"2016/Jun\";\"2016/Jul\";\"2016/Ago\";\"2016/Set\";\"2016/Out\";\"2016/Nov\";\"2016/Dez\";\"2017/Jan\";\"2017/Fev\";\"2017/Mar\";\"2017/Abr\";\"2017/Mai\";\"2017/Jun\";\"2017/Jul\";\"2017/Ago\";\"2017/Set\";\"2017/Out\";\"2017/Nov\";\"2017/Dez\";\"2018/Jan\";\"2018/Fev\";\"2018/Mar\";\"2018/Abr\";\"2018/Mai\";\"2018/Jun\";\"2018/Jul\";\"2018/Ago\";\"2018/Set\";\"2018/Out\";\"2018/Nov\";\"2018/Dez\";\"2019/Jan\";\"2019/Fev\";\"2019/Mar\";\"2019/Abr\";\"2019/Mai\";\"2019/Jun\";\"2019/Jul\";\"2019/Ago\";\"2019/Set\";\"2019/Out\";\"2019/Nov\";\"2019/Dez\";\"2020/Jan\";\"2020/Fev\";\"2020/Mar\";\"2020/Abr\";\"2020/Mai\";\"2020/Jun\";\"2020/Jul\";\"2020/Ago\";\"2020/Set\";\"2020/Out\";\"2020/Nov\";\"2020/Dez\";\"2021/Jan\";\"2021/Fev\";\"2021/Mar\";\"2021/Abr\";\"2021/Mai\";\"2021/Jun\";\"2021/Jul\";\"2021/Ago\";\"2021/Set\";\"2021/Out\";\"2021/Nov\";\"2021/Dez\";\"2022/Jan\";\"2022/Fev\";\"2022/Mar\";\"2022/Abr\";\"2022/Mai\";\"2022/Jun\";\"2022/Jul\";\"2022/Ago\";\"2022/Set\";\"2022/Out\";\"2022/Nov\";\"2022/Dez\"\n",
       "0  11 Rond�nia;281;279;278;295;296;301;304;306;30...                                                                                                                                                                                                                                                                                                                                                                                                                                                                                                                                                                                                                                                                                                                                                                                                                                                                                                                                                                                                                                                                                                                                                                                                                                                                                                                                                                                                                                                                                                                                                                                                                                                                                                                                                                                                                                                                                                                                                                                                                              \n",
       "1  12 Acre;168;170;170;171;172;172;172;175;175;17...                                                                                                                                                                                                                                                                                                                                                                                                                                                                                                                                                                                                                                                                                                                                                                                                                                                                                                                                                                                                                                                                                                                                                                                                                                                                                                                                                                                                                                                                                                                                                                                                                                                                                                                                                                                                                                                                                                                                                                                                                              \n",
       "2  13 Amazonas;622;613;616;608;636;641;639;642;65...                                                                                                                                                                                                                                                                                                                                                                                                                                                                                                                                                                                                                                                                                                                                                                                                                                                                                                                                                                                                                                                                                                                                                                                                                                                                                                                                                                                                                                                                                                                                                                                                                                                                                                                                                                                                                                                                                                                                                                                                                              \n",
       "3  14 Roraima;95;93;93;94;95;97;100;100;100;102;1...                                                                                                                                                                                                                                                                                                                                                                                                                                                                                                                                                                                                                                                                                                                                                                                                                                                                                                                                                                                                                                                                                                                                                                                                                                                                                                                                                                                                                                                                                                                                                                                                                                                                                                                                                                                                                                                                                                                                                                                                                              \n",
       "4  15 Par�;1060;1066;1082;1100;1123;1132;1148;115...                                                                                                                                                                                                                                                                                                                                                                                                                                                                                                                                                                                                                                                                                                                                                                                                                                                                                                                                                                                                                                                                                                                                                                                                                                                                                                                                                                                                                                                                                                                                                                                                                                                                                                                                                                                                                                                                                                                                                                                                                              "
      ]
     },
     "execution_count": 4,
     "metadata": {},
     "output_type": "execute_result"
    }
   ],
   "source": [
    "df.head()"
   ]
  },
  {
   "cell_type": "code",
   "execution_count": null,
   "metadata": {},
   "outputs": [],
   "source": []
  }
 ],
 "metadata": {
  "kernelspec": {
   "display_name": "Python 3 (ipykernel)",
   "language": "python",
   "name": "python3"
  },
  "language_info": {
   "codemirror_mode": {
    "name": "ipython",
    "version": 3
   },
   "file_extension": ".py",
   "mimetype": "text/x-python",
   "name": "python",
   "nbconvert_exporter": "python",
   "pygments_lexer": "ipython3",
   "version": "3.10.0"
  },
  "orig_nbformat": 4
 },
 "nbformat": 4,
 "nbformat_minor": 2
}
