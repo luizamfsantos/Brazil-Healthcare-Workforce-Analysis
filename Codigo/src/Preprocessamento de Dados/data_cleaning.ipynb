{
 "cells": [
  {
   "cell_type": "markdown",
   "metadata": {},
   "source": [
    "# import libraries"
   ]
  },
  {
   "cell_type": "code",
   "execution_count": 2,
   "metadata": {},
   "outputs": [],
   "source": [
    "import pandas as pd\n",
    "import numpy as np"
   ]
  },
  {
   "cell_type": "markdown",
   "metadata": {},
   "source": [
    "# load equipes de saude totais data"
   ]
  },
  {
   "cell_type": "code",
   "execution_count": 11,
   "metadata": {},
   "outputs": [],
   "source": [
    "df = pd.read_csv('../../../Dados/Raw/Equipes_Saude/totais/2008-2022.csv', delimiter=';', encoding='utf-8')\n"
   ]
  },
  {
   "cell_type": "code",
   "execution_count": 12,
   "metadata": {},
   "outputs": [
    {
     "data": {
      "text/html": [
       "<div>\n",
       "<style scoped>\n",
       "    .dataframe tbody tr th:only-of-type {\n",
       "        vertical-align: middle;\n",
       "    }\n",
       "\n",
       "    .dataframe tbody tr th {\n",
       "        vertical-align: top;\n",
       "    }\n",
       "\n",
       "    .dataframe thead th {\n",
       "        text-align: right;\n",
       "    }\n",
       "</style>\n",
       "<table border=\"1\" class=\"dataframe\">\n",
       "  <thead>\n",
       "    <tr style=\"text-align: right;\">\n",
       "      <th></th>\n",
       "      <th>Unidade da Federacao</th>\n",
       "      <th>2008/Jan</th>\n",
       "      <th>2008/Fev</th>\n",
       "      <th>2008/Mar</th>\n",
       "      <th>2008/Abr</th>\n",
       "      <th>2008/Mai</th>\n",
       "      <th>2008/Jun</th>\n",
       "      <th>2008/Jul</th>\n",
       "      <th>2008/Ago</th>\n",
       "      <th>2008/Set</th>\n",
       "      <th>...</th>\n",
       "      <th>2022/Mar</th>\n",
       "      <th>2022/Abr</th>\n",
       "      <th>2022/Mai</th>\n",
       "      <th>2022/Jun</th>\n",
       "      <th>2022/Jul</th>\n",
       "      <th>2022/Ago</th>\n",
       "      <th>2022/Set</th>\n",
       "      <th>2022/Out</th>\n",
       "      <th>2022/Nov</th>\n",
       "      <th>2022/Dez</th>\n",
       "    </tr>\n",
       "  </thead>\n",
       "  <tbody>\n",
       "    <tr>\n",
       "      <th>0</th>\n",
       "      <td>11 Rondonia</td>\n",
       "      <td>281</td>\n",
       "      <td>279</td>\n",
       "      <td>278</td>\n",
       "      <td>295</td>\n",
       "      <td>296</td>\n",
       "      <td>301</td>\n",
       "      <td>304</td>\n",
       "      <td>306</td>\n",
       "      <td>308</td>\n",
       "      <td>...</td>\n",
       "      <td>697</td>\n",
       "      <td>698</td>\n",
       "      <td>700</td>\n",
       "      <td>696</td>\n",
       "      <td>696</td>\n",
       "      <td>700</td>\n",
       "      <td>701</td>\n",
       "      <td>705</td>\n",
       "      <td>706</td>\n",
       "      <td>711</td>\n",
       "    </tr>\n",
       "    <tr>\n",
       "      <th>1</th>\n",
       "      <td>12 Acre</td>\n",
       "      <td>168</td>\n",
       "      <td>170</td>\n",
       "      <td>170</td>\n",
       "      <td>171</td>\n",
       "      <td>172</td>\n",
       "      <td>172</td>\n",
       "      <td>172</td>\n",
       "      <td>175</td>\n",
       "      <td>175</td>\n",
       "      <td>...</td>\n",
       "      <td>485</td>\n",
       "      <td>488</td>\n",
       "      <td>488</td>\n",
       "      <td>489</td>\n",
       "      <td>487</td>\n",
       "      <td>489</td>\n",
       "      <td>488</td>\n",
       "      <td>489</td>\n",
       "      <td>490</td>\n",
       "      <td>493</td>\n",
       "    </tr>\n",
       "    <tr>\n",
       "      <th>2</th>\n",
       "      <td>13 Amazonas</td>\n",
       "      <td>622</td>\n",
       "      <td>613</td>\n",
       "      <td>616</td>\n",
       "      <td>608</td>\n",
       "      <td>636</td>\n",
       "      <td>641</td>\n",
       "      <td>639</td>\n",
       "      <td>642</td>\n",
       "      <td>651</td>\n",
       "      <td>...</td>\n",
       "      <td>2107</td>\n",
       "      <td>2117</td>\n",
       "      <td>2113</td>\n",
       "      <td>2116</td>\n",
       "      <td>2116</td>\n",
       "      <td>2122</td>\n",
       "      <td>2132</td>\n",
       "      <td>2135</td>\n",
       "      <td>2132</td>\n",
       "      <td>2134</td>\n",
       "    </tr>\n",
       "    <tr>\n",
       "      <th>3</th>\n",
       "      <td>14 Roraima</td>\n",
       "      <td>95</td>\n",
       "      <td>93</td>\n",
       "      <td>93</td>\n",
       "      <td>94</td>\n",
       "      <td>95</td>\n",
       "      <td>97</td>\n",
       "      <td>100</td>\n",
       "      <td>100</td>\n",
       "      <td>100</td>\n",
       "      <td>...</td>\n",
       "      <td>296</td>\n",
       "      <td>301</td>\n",
       "      <td>302</td>\n",
       "      <td>302</td>\n",
       "      <td>302</td>\n",
       "      <td>302</td>\n",
       "      <td>302</td>\n",
       "      <td>302</td>\n",
       "      <td>301</td>\n",
       "      <td>303</td>\n",
       "    </tr>\n",
       "    <tr>\n",
       "      <th>4</th>\n",
       "      <td>15 Para</td>\n",
       "      <td>1060</td>\n",
       "      <td>1066</td>\n",
       "      <td>1082</td>\n",
       "      <td>1100</td>\n",
       "      <td>1123</td>\n",
       "      <td>1132</td>\n",
       "      <td>1148</td>\n",
       "      <td>1158</td>\n",
       "      <td>1159</td>\n",
       "      <td>...</td>\n",
       "      <td>3711</td>\n",
       "      <td>3714</td>\n",
       "      <td>3726</td>\n",
       "      <td>3738</td>\n",
       "      <td>3747</td>\n",
       "      <td>3760</td>\n",
       "      <td>3771</td>\n",
       "      <td>3775</td>\n",
       "      <td>3774</td>\n",
       "      <td>3786</td>\n",
       "    </tr>\n",
       "  </tbody>\n",
       "</table>\n",
       "<p>5 rows × 181 columns</p>\n",
       "</div>"
      ],
      "text/plain": [
       "  Unidade da Federacao  2008/Jan  2008/Fev  2008/Mar  2008/Abr  2008/Mai  \\\n",
       "0          11 Rondonia       281       279       278       295       296   \n",
       "1              12 Acre       168       170       170       171       172   \n",
       "2          13 Amazonas       622       613       616       608       636   \n",
       "3           14 Roraima        95        93        93        94        95   \n",
       "4              15 Para      1060      1066      1082      1100      1123   \n",
       "\n",
       "   2008/Jun  2008/Jul  2008/Ago  2008/Set  ...  2022/Mar  2022/Abr  2022/Mai  \\\n",
       "0       301       304       306       308  ...       697       698       700   \n",
       "1       172       172       175       175  ...       485       488       488   \n",
       "2       641       639       642       651  ...      2107      2117      2113   \n",
       "3        97       100       100       100  ...       296       301       302   \n",
       "4      1132      1148      1158      1159  ...      3711      3714      3726   \n",
       "\n",
       "   2022/Jun  2022/Jul  2022/Ago  2022/Set  2022/Out  2022/Nov  2022/Dez  \n",
       "0       696       696       700       701       705       706       711  \n",
       "1       489       487       489       488       489       490       493  \n",
       "2      2116      2116      2122      2132      2135      2132      2134  \n",
       "3       302       302       302       302       302       301       303  \n",
       "4      3738      3747      3760      3771      3775      3774      3786  \n",
       "\n",
       "[5 rows x 181 columns]"
      ]
     },
     "execution_count": 12,
     "metadata": {},
     "output_type": "execute_result"
    }
   ],
   "source": [
    "df.head()"
   ]
  },
  {
   "cell_type": "markdown",
   "metadata": {},
   "source": [
    "# replace column names"
   ]
  },
  {
   "cell_type": "code",
   "execution_count": 13,
   "metadata": {},
   "outputs": [
    {
     "data": {
      "text/plain": [
       "Index(['Unidade da Federacao', '2008/Jan', '2008/Fev', '2008/Mar', '2008/Abr',\n",
       "       '2008/Mai', '2008/Jun', '2008/Jul', '2008/Ago', '2008/Set',\n",
       "       ...\n",
       "       '2022/Mar', '2022/Abr', '2022/Mai', '2022/Jun', '2022/Jul', '2022/Ago',\n",
       "       '2022/Set', '2022/Out', '2022/Nov', '2022/Dez'],\n",
       "      dtype='object', length=181)"
      ]
     },
     "execution_count": 13,
     "metadata": {},
     "output_type": "execute_result"
    }
   ],
   "source": [
    "df.columns"
   ]
  },
  {
   "cell_type": "code",
   "execution_count": 14,
   "metadata": {},
   "outputs": [],
   "source": [
    "months = {\"/Jan\":\"-01-01\", \"/Fev\":\"-02-01\", \"/Mar\":\"-03-01\", \"/Abr\":\"-04-01\", \"/Mai\":\"-05-01\", \"/Jun\":\"-06-01\", \"/Jul\":\"-07-01\", \"/Ago\":\"-08-01\", \"/Set\":\"-09-01\", \"/Out\":\"-10-01\", \"/Nov\":\"-11-01\", \"/Dez\":\"-12-01\"}\n",
    "for key, value in months.items():\n",
    "    df.columns = df.columns.str.replace(key, value)"
   ]
  },
  {
   "cell_type": "code",
   "execution_count": 15,
   "metadata": {},
   "outputs": [
    {
     "data": {
      "text/plain": [
       "Index(['Unidade da Federacao', '2008-01-01', '2008-02-01', '2008-03-01',\n",
       "       '2008-04-01', '2008-05-01', '2008-06-01', '2008-07-01', '2008-08-01',\n",
       "       '2008-09-01',\n",
       "       ...\n",
       "       '2022-03-01', '2022-04-01', '2022-05-01', '2022-06-01', '2022-07-01',\n",
       "       '2022-08-01', '2022-09-01', '2022-10-01', '2022-11-01', '2022-12-01'],\n",
       "      dtype='object', length=181)"
      ]
     },
     "execution_count": 15,
     "metadata": {},
     "output_type": "execute_result"
    }
   ],
   "source": [
    "df.columns"
   ]
  },
  {
   "cell_type": "markdown",
   "metadata": {},
   "source": [
    "# check for NAs"
   ]
  },
  {
   "cell_type": "code",
   "execution_count": 17,
   "metadata": {},
   "outputs": [
    {
     "data": {
      "text/plain": [
       "0"
      ]
     },
     "execution_count": 17,
     "metadata": {},
     "output_type": "execute_result"
    }
   ],
   "source": [
    "df.isna().sum().sum()"
   ]
  },
  {
   "cell_type": "markdown",
   "metadata": {},
   "source": [
    "# save data"
   ]
  },
  {
   "cell_type": "code",
   "execution_count": 21,
   "metadata": {},
   "outputs": [],
   "source": [
    "# save data in a new csv file\n",
    "# df.to_csv('../../../Dados/Processado/Equipes_Saude/totais/2008-2022.csv', index=False)"
   ]
  },
  {
   "cell_type": "markdown",
   "metadata": {},
   "source": [
    "# Normalize data\n",
    "Normalize data per 1000 people."
   ]
  },
  {
   "cell_type": "markdown",
   "metadata": {},
   "source": [
    "# load population data"
   ]
  }
 ],
 "metadata": {
  "kernelspec": {
   "display_name": "Python 3 (ipykernel)",
   "language": "python",
   "name": "python3"
  },
  "language_info": {
   "codemirror_mode": {
    "name": "ipython",
    "version": 3
   },
   "file_extension": ".py",
   "mimetype": "text/x-python",
   "name": "python",
   "nbconvert_exporter": "python",
   "pygments_lexer": "ipython3",
   "version": "3.10.0"
  },
  "orig_nbformat": 4
 },
 "nbformat": 4,
 "nbformat_minor": 2
}
